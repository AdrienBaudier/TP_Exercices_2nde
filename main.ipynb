{
 "cells": [
  {
   "cell_type": "markdown",
   "metadata": {},
   "source": [
    "## **Exercice 1**"
   ]
  },
  {
   "cell_type": "markdown",
   "metadata": {},
   "source": [
    "Compléter le programme pour calculer le périmètre et l'aire d'un disque de rayon `r`\n",
    "\n",
    "On prendra 3,14 pour valeur approchée de Pi"
   ]
  },
  {
   "cell_type": "code",
   "execution_count": null,
   "metadata": {},
   "outputs": [],
   "source": [
    "r = float(input(\"Entrer un nombre : \"))\n",
    "Perimetre = None\n",
    "Aire = None\n",
    "# Compléter ci-dessous\n",
    "\n",
    "\n",
    "########\n",
    "print(\"Le périmètre d'un cercle de rayon \",r,\" est \",Perimetre)\n",
    "print(\"L'aire' d'un disque de rayon \",r,\" est \",Aire)"
   ]
  },
  {
   "cell_type": "markdown",
   "metadata": {},
   "source": [
    "## **Exercice 2**"
   ]
  },
  {
   "cell_type": "markdown",
   "metadata": {},
   "source": [
    "Compléter le programme ci-dessous afin de calculer la factorielle du nombre `n`\n",
    "\n",
    "La factorielle d'un nombre n est le produit ``1*2*3*4*...*n``\n",
    "\n",
    "Par exemple, la factorielle de 3 est 6 et celle de 4 est 24."
   ]
  },
  {
   "cell_type": "code",
   "execution_count": null,
   "metadata": {},
   "outputs": [],
   "source": [
    "n = int(input(\"Entrer un nombre entier : \"))\n",
    "factorielle = 1\n",
    "# Compléter le programme\n",
    "\n",
    "\n",
    "#######\n",
    "print(\"La factorielle de \",n,\" est \",factorielle)"
   ]
  },
  {
   "cell_type": "markdown",
   "metadata": {},
   "source": [
    "## **Exercice 3**"
   ]
  },
  {
   "cell_type": "markdown",
   "metadata": {},
   "source": [
    "Compléter le programme ci-dessous afin d'obtenir la liste de tous les diviseurs d'un nombre n.\n",
    "\n",
    "On rappelle qu'un nombre d est un diviseur de n si `n%d == 0`\n",
    "\n",
    "Il faut tester tous les diviseurs possibles entre 1 et n.\n",
    "\n",
    "Pour ajouter un nombre `d` à une liste `L`, on peut écrire en Python : `L.append(d)`"
   ]
  },
  {
   "cell_type": "code",
   "execution_count": null,
   "metadata": {},
   "outputs": [],
   "source": [
    "n = int(input(\"Entrer un nombre : \"))\n",
    "D = [] # La liste D doit contenir tous les diviseurs de n à la fin du programme\n",
    "d = None\n",
    "# Compléter ci-dessous\n",
    "\n",
    "\n",
    "########\n",
    "print(\"Les diviseurs de \",n,\" sont : \",D)"
   ]
  },
  {
   "cell_type": "markdown",
   "metadata": {},
   "source": [
    "## **Exercice 4**"
   ]
  },
  {
   "cell_type": "markdown",
   "metadata": {},
   "source": [
    "La liste `L` contient 100 nombres aléatoires, on cherche à savoir combien de fois le nombre `n` apparaît dans la liste `L`.\n",
    "\n",
    "Compléter le programme suivant :"
   ]
  },
  {
   "cell_type": "code",
   "execution_count": null,
   "metadata": {},
   "outputs": [],
   "source": [
    "from random import randint\n",
    "L = [randint(1,10) for _ in range(100)]\n",
    "n = randint(1,10)\n",
    "#Compléter le programme ci-dessous\n",
    "\n"
   ]
  }
 ],
 "metadata": {
  "kernelspec": {
   "display_name": "Python 3",
   "language": "python",
   "name": "python3"
  },
  "language_info": {
   "codemirror_mode": {
    "name": "ipython",
    "version": 3
   },
   "file_extension": ".py",
   "mimetype": "text/x-python",
   "name": "python",
   "nbconvert_exporter": "python",
   "pygments_lexer": "ipython3",
   "version": "3.7.4"
  }
 },
 "nbformat": 4,
 "nbformat_minor": 2
}
